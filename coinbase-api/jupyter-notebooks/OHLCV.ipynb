{
 "cells": [
  {
   "cell_type": "markdown",
   "metadata": {},
   "source": [
    "# Coinbase Pro OHLCV Data"
   ]
  },
  {
   "cell_type": "markdown",
   "metadata": {},
   "source": [
    "## Overview\n",
    "\n",
    "A script to get historical OHLCV Data for backtesting from Coinbase Pro.\n",
    "\n",
    "Here's a breakdown of how it works:\n",
    "\n",
    "- prints a list of all available products\n",
    "    - potentially iterates and gets historical data for each product\n",
    "    - for now, just provides reference for manual input\n",
    "- get historical data for specified "
   ]
  },
  {
   "cell_type": "code",
   "execution_count": 81,
   "metadata": {},
   "outputs": [],
   "source": [
    "import sys\n",
    "# !{sys.executable} -m pip install cbpro"
   ]
  },
  {
   "cell_type": "code",
   "execution_count": 2,
   "metadata": {},
   "outputs": [],
   "source": [
    "import cbpro\n",
    "import datetime as dt\n",
    "import numpy as np\n",
    "import pandas as pd\n",
    "import time\n",
    "\n",
    "# initialize coinbase pro client with public functions\n",
    "pc = cbpro.PublicClient()"
   ]
  },
  {
   "cell_type": "markdown",
   "metadata": {},
   "source": [
    "## Products\n",
    "\n",
    "Get full list of `product_id`s to iterate through"
   ]
  },
  {
   "cell_type": "code",
   "execution_count": 168,
   "metadata": {},
   "outputs": [
    {
     "name": "stdout",
     "output_type": "stream",
     "text": [
      "['ALGO-USD', 'BAT-ETH', 'BAT-USDC', 'BCH-BTC', 'BCH-EUR', 'BCH-GBP', 'BCH-USD', 'BTC-EUR', 'BTC-GBP', 'BTC-USD', 'BTC-USDC', 'CVC-USDC', 'DAI-USDC', 'DASH-BTC', 'DASH-USD', 'DNT-USDC', 'EOS-BTC', 'EOS-EUR', 'EOS-USD', 'ETC-BTC', 'ETC-EUR', 'ETC-GBP', 'ETC-USD', 'ETH-BTC', 'ETH-DAI', 'ETH-EUR', 'ETH-GBP', 'ETH-USD', 'ETH-USDC', 'GNT-USDC', 'LINK-ETH', 'LINK-USD', 'LOOM-USDC', 'LTC-BTC', 'LTC-EUR', 'LTC-GBP', 'LTC-USD', 'MANA-USDC', 'REP-BTC', 'REP-USD', 'XLM-BTC', 'XLM-EUR', 'XLM-USD', 'XRP-BTC', 'XRP-EUR', 'XRP-USD', 'XTZ-BTC', 'XTZ-USD', 'ZEC-BTC', 'ZEC-USDC', 'ZRX-BTC', 'ZRX-EUR', 'ZRX-USD']\n"
     ]
    }
   ],
   "source": [
    "products = pc.get_products()\n",
    "product_ids = [x['id'] for x in products]\n",
    "product_ids.sort()\n",
    "\n",
    "print(product_ids)"
   ]
  },
  {
   "cell_type": "markdown",
   "metadata": {},
   "source": [
    "## Iterative API Calls"
   ]
  },
  {
   "cell_type": "code",
   "execution_count": 6,
   "metadata": {},
   "outputs": [
    {
     "name": "stdout",
     "output_type": "stream",
     "text": [
      "[[1525910400, 9001.01, 9386.32, 9300.08, 9010.51, 7596.46134672], [1525824000, 8960, 9370, 9177.81, 9300.08, 8628.95083325], [1525737600, 9050, 9463.13, 9356.25, 9177.82, 9561.98001906], [1525651200, 9162.85, 9619.55, 9600, 9353, 9909.98246212], [1525564800, 9390, 9880, 9799.99, 9600, 7651.21500589], [1525478400, 9660.28, 9948.12, 9685, 9800, 9391.1010713], [1525392000, 9451.5, 9745, 9725.74, 9685, 10837.90259875], [1525305600, 9131, 9800, 9190.47, 9725.74, 14956.45443951], [1525219200, 8990, 9251.05, 9072.29, 9190.48, 8825.62461492], [1525132800, 8831.21, 9245.37, 9243.83, 9072.29, 11372.35045084]]\n",
      "2018-05-09 20:00:00\n",
      "2018-04-30 20:00:00\n"
     ]
    }
   ],
   "source": [
    "product_id = 'BTC-USD'\n",
    "\n",
    "# set end to current time and iterate backwards to specified start\n",
    "start = dt.datetime(2018, 5, 1)\n",
    "end = dt.datetime(2018, 5, 10)\n",
    "new_data = pc.get_product_historic_rates(product_id, start=start, end=end, granularity=86400)\n",
    "\n",
    "print(new_data)\n",
    "print(dt.datetime.fromtimestamp(new_data[0][0]))\n",
    "print(dt.datetime.fromtimestamp(new_data[-1][0]))\n",
    "\n",
    "# while end != start:\n",
    "# for x in [1,2,3]:\n",
    "#     pc = cbpro.PublicClient()\n",
    "#     print()\n",
    "#     new_data = pc.get_product_historic_rates(product_id, end=end, granularity=86400)\n",
    "#     hist_data.extend(new_data)\n",
    "#     end = dt.datetime.fromtimestamp(new_data[-1][0])\n",
    "#     print(end)\n",
    "#     print(pc.session)\n",
    "#     pc.session.close()\n",
    "#     print(pc.session)\n",
    "#     print('')\n",
    "#     time.sleep(5)"
   ]
  },
  {
   "cell_type": "code",
   "execution_count": 170,
   "metadata": {},
   "outputs": [],
   "source": [
    "# 1567209600 1573667520 1573603200\n",
    "# [1547769600, 3580.16, 3643.69, 3640.64, 3607.85, 5977.23699338]]"
   ]
  },
  {
   "cell_type": "code",
   "execution_count": 175,
   "metadata": {},
   "outputs": [
    {
     "name": "stdout",
     "output_type": "stream",
     "text": [
      "5\n",
      "11\n",
      "11\n"
     ]
    }
   ],
   "source": [
    "list1 = [[1, 2] , [3, 4], [5, 6]]\n",
    "list2 = [[7, 8] , [9, 10], [11, 12]]\n",
    "\n",
    "for x in [1,2,3]:\n",
    "    print(list1[-1][0])\n",
    "    list1.extend(list2)\n",
    "        "
   ]
  },
  {
   "cell_type": "code",
   "execution_count": null,
   "metadata": {},
   "outputs": [],
   "source": []
  }
 ],
 "metadata": {
  "kernelspec": {
   "display_name": "Python 3",
   "language": "python",
   "name": "python3"
  },
  "language_info": {
   "codemirror_mode": {
    "name": "ipython",
    "version": 3
   },
   "file_extension": ".py",
   "mimetype": "text/x-python",
   "name": "python",
   "nbconvert_exporter": "python",
   "pygments_lexer": "ipython3",
   "version": "3.7.4"
  }
 },
 "nbformat": 4,
 "nbformat_minor": 2
}
