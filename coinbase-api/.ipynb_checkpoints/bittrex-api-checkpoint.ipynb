{
 "cells": [
  {
   "cell_type": "markdown",
   "metadata": {},
   "source": [
    "# Bittrex API Library"
   ]
  },
  {
   "cell_type": "markdown",
   "metadata": {},
   "source": [
    "BULLSHIT"
   ]
  },
  {
   "cell_type": "code",
   "execution_count": null,
   "metadata": {},
   "outputs": [],
   "source": [
    "# sandbox url\n",
    "sandbox_url = 'https://public.sandbox.pro.coinbase.com'\n",
    "\n",
    "# REST API url\n",
    "rest_url = 'https://api-public.sandbox.pro.coinbase.com'\n",
    "\n",
    "# Websocket Feed url\n",
    "websckt_feed = 'wss://ws-feed-public.sandbox.pro.coinbase.com'\n",
    "\n",
    "# FIX API address\n",
    "fix_address = 'tcp+ssl://fix-public.sandbox.pro.coinbase.com:4198'"
   ]
  }
 ],
 "metadata": {
  "kernelspec": {
   "display_name": "Python 3",
   "language": "python",
   "name": "python3"
  },
  "language_info": {
   "codemirror_mode": {
    "name": "ipython",
    "version": 3
   },
   "file_extension": ".py",
   "mimetype": "text/x-python",
   "name": "python",
   "nbconvert_exporter": "python",
   "pygments_lexer": "ipython3",
   "version": "3.7.4"
  }
 },
 "nbformat": 4,
 "nbformat_minor": 2
}
